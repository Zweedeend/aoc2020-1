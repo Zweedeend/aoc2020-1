{
 "cells": [
  {
   "cell_type": "code",
   "execution_count": 1,
   "metadata": {},
   "outputs": [
    {
     "output_type": "stream",
     "name": "stdout",
     "text": [
      "200\n"
     ]
    }
   ],
   "source": [
    "# Personalised input\n",
    "\n",
    "with open('./input01.txt', 'r') as f:\n",
    "    nums = sorted(map(int, list(f)))\n",
    "print(len(nums))"
   ]
  },
  {
   "cell_type": "code",
   "execution_count": 2,
   "metadata": {},
   "outputs": [
    {
     "output_type": "stream",
     "name": "stdout",
     "text": [
      "802011\n"
     ]
    }
   ],
   "source": [
    "# Day 01, puzzle 1\n",
    "# Find 2 numbers in the list that add up to 2020, give the product.\n",
    "\n",
    "# Loop through the whole list\n",
    "for i in nums:\n",
    "\n",
    "    # Loop backwards through the whole list\n",
    "    for j in reversed(nums):\n",
    "        \n",
    "        # Did we pass each other, or the mark?\n",
    "        if i > j or i + j < 2020:\n",
    "            break\n",
    "        \n",
    "        # Did we get there?\n",
    "        if i + j == 2020:\n",
    "            print(i * j)\n",
    "            break"
   ]
  },
  {
   "cell_type": "code",
   "execution_count": 3,
   "metadata": {},
   "outputs": [
    {
     "output_type": "stream",
     "name": "stdout",
     "text": [
      "248607374\n"
     ]
    }
   ],
   "source": [
    "# Day 01, puzzle 2\n",
    "# Find 3 numbers in the list that add up to 2020, give the product.\n",
    "\n",
    "for i in range(len(nums)):\n",
    "    for j in range(i + 1, len(nums)):\n",
    "        for k in range(j + 1, len(nums)):\n",
    "            s = nums[i] + nums[j] + nums[k]\n",
    "            if s > 2020:\n",
    "                break\n",
    "            if s == 2020:\n",
    "                print(nums[i] * nums[j] * nums[k])\n",
    "                break"
   ]
  },
  {
   "cell_type": "code",
   "execution_count": 4,
   "metadata": {},
   "outputs": [
    {
     "output_type": "stream",
     "name": "stdout",
     "text": [
      "2 802011\n",
      "3 248607374\n"
     ]
    }
   ],
   "source": [
    "# Worst. Solution. Ever.\n",
    "\n",
    "from random import sample\n",
    "from functools import reduce\n",
    "\n",
    "with open('./input01.txt', 'r') as f:\n",
    "    n = list(map(int, list(f)))\n",
    "\n",
    "for i in range(2, 4):\n",
    "    s = 0\n",
    "    while s != 2020:\n",
    "        t = sample(n, i)\n",
    "        s = sum(t)\n",
    "    print(i, reduce((lambda x, y: x * y), t))"
   ]
  },
  {
   "cell_type": "code",
   "execution_count": null,
   "metadata": {},
   "outputs": [],
   "source": []
  }
 ],
 "metadata": {
  "kernelspec": {
   "display_name": "Python 3",
   "language": "python",
   "name": "python3"
  },
  "language_info": {
   "codemirror_mode": {
    "name": "ipython",
    "version": 3
   },
   "file_extension": ".py",
   "mimetype": "text/x-python",
   "name": "python",
   "nbconvert_exporter": "python",
   "pygments_lexer": "ipython3",
   "version": "3.9.0-final"
  }
 },
 "nbformat": 4,
 "nbformat_minor": 4
}