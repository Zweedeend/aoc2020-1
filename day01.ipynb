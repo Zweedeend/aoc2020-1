{
 "cells": [
  {
   "cell_type": "code",
   "execution_count": 14,
   "metadata": {},
   "outputs": [],
   "source": [
    "with open('./input01.txt', 'rt') as f:\n",
    "    nums = sorted(map(int, list(f)))"
   ]
  },
  {
   "cell_type": "code",
   "execution_count": 27,
   "metadata": {},
   "outputs": [
    {
     "name": "stdout",
     "output_type": "stream",
     "text": [
      "543 1477 2020 802011\n"
     ]
    }
   ],
   "source": [
    "for i in nums:\n",
    "    for j in reversed(nums):\n",
    "        if i > j or i + j < 2020:\n",
    "            break\n",
    "        if i + j == 2020:\n",
    "            print(i, j, i + j, i * j)\n",
    "            break"
   ]
  },
  {
   "cell_type": "code",
   "execution_count": 28,
   "metadata": {},
   "outputs": [
    {
     "name": "stdout",
     "output_type": "stream",
     "text": [
      "248607374\n"
     ]
    }
   ],
   "source": [
    "# Day 01, puzzle 2\n",
    "for i in range(len(nums)):\n",
    "    si = nums[i]\n",
    "    for j in range(i + 1, len(nums)):\n",
    "        sj = si + nums[j]\n",
    "        if sj >= 2020:\n",
    "            break\n",
    "        for k in range(j + 1, len(nums)):\n",
    "            sk = sj + nums[k]\n",
    "            if sk > 2020:\n",
    "                break\n",
    "            if sk == 2020:\n",
    "                print(nums[i] * nums[j] * nums[k])\n",
    "                break"
   ]
  },
  {
   "cell_type": "code",
   "execution_count": null,
   "metadata": {},
   "outputs": [],
   "source": []
  }
 ],
 "metadata": {
  "kernelspec": {
   "display_name": "Python 3",
   "language": "python",
   "name": "python3"
  },
  "language_info": {
   "codemirror_mode": {
    "name": "ipython",
    "version": 3
   },
   "file_extension": ".py",
   "mimetype": "text/x-python",
   "name": "python",
   "nbconvert_exporter": "python",
   "pygments_lexer": "ipython3",
   "version": "3.9.0"
  }
 },
 "nbformat": 4,
 "nbformat_minor": 4
}
